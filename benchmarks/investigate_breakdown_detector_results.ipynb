{
 "cells": [
  {
   "cell_type": "markdown",
   "metadata": {},
   "source": [
    "# Setup"
   ]
  },
  {
   "cell_type": "code",
   "execution_count": 1,
   "metadata": {},
   "outputs": [],
   "source": [
    "%load_ext autoreload\n",
    "%autoreload 2"
   ]
  },
  {
   "cell_type": "code",
   "execution_count": 2,
   "metadata": {},
   "outputs": [],
   "source": [
    "from pathlib import Path\n",
    "\n",
    "\n",
    "from dbdc_eval.breakdown_detection_analyzer import analyze_dataset, analyze_configs\n",
    "from breakdown_dataset_loader import load_dataset, load_tested_dialogues"
   ]
  },
  {
   "cell_type": "markdown",
   "metadata": {},
   "source": [
    "# Investigate Dataset Statistics\n",
    "Data source: downloaded data from https://chateval.org/dbdc5 and extracted under ../datasets/dialogue_breakdowns/"
   ]
  },
  {
   "cell_type": "markdown",
   "metadata": {},
   "source": [
    "## DBDC5 English Track Dev"
   ]
  },
  {
   "cell_type": "code",
   "execution_count": 3,
   "metadata": {},
   "outputs": [],
   "source": [
    "split = \"dev\"\n",
    "lang = \"en\""
   ]
  },
  {
   "cell_type": "code",
   "execution_count": 4,
   "metadata": {},
   "outputs": [],
   "source": [
    "dbdc_split_dataset = load_dataset(split=split, lang=lang)"
   ]
  },
  {
   "cell_type": "code",
   "execution_count": null,
   "metadata": {},
   "outputs": [],
   "source": [
    "analyze_dataset(dbdc_split_dataset)"
   ]
  },
  {
   "cell_type": "markdown",
   "metadata": {},
   "source": [
    "## DBDC5 English Track Eval"
   ]
  },
  {
   "cell_type": "code",
   "execution_count": 6,
   "metadata": {},
   "outputs": [],
   "source": [
    "lang = \"en\"\n",
    "split = \"eval\""
   ]
  },
  {
   "cell_type": "code",
   "execution_count": 7,
   "metadata": {},
   "outputs": [],
   "source": [
    "dbdc_split_dataset = load_dataset(split=split, lang=lang)"
   ]
  },
  {
   "cell_type": "code",
   "execution_count": null,
   "metadata": {},
   "outputs": [],
   "source": [
    "analyze_dataset(dbdc_split_dataset)"
   ]
  },
  {
   "cell_type": "markdown",
   "metadata": {},
   "source": [
    "## DBDC5 Japanese Track Dev"
   ]
  },
  {
   "cell_type": "code",
   "execution_count": 9,
   "metadata": {},
   "outputs": [],
   "source": [
    "lang = \"ja\"\n",
    "split = \"dev\""
   ]
  },
  {
   "cell_type": "code",
   "execution_count": 10,
   "metadata": {},
   "outputs": [],
   "source": [
    "dbdc_split_dataset = load_dataset(split=split, lang=lang)"
   ]
  },
  {
   "cell_type": "code",
   "execution_count": null,
   "metadata": {},
   "outputs": [],
   "source": [
    "analyze_dataset(dbdc_split_dataset)"
   ]
  },
  {
   "cell_type": "markdown",
   "metadata": {},
   "source": [
    "# Investigate eval results"
   ]
  },
  {
   "cell_type": "markdown",
   "metadata": {},
   "source": [
    "## DBDC5 English Track Eval"
   ]
  },
  {
   "cell_type": "code",
   "execution_count": 12,
   "metadata": {},
   "outputs": [],
   "source": [
    "lang = \"en\"\n",
    "split = \"eval\""
   ]
  },
  {
   "cell_type": "code",
   "execution_count": 13,
   "metadata": {},
   "outputs": [],
   "source": [
    "configs_to_evaluate = [\n",
    "    \"gpt-4o_ghassel_no-tes\",\n",
    "    \"gpt-4o_ghassel-taxonomy_no-tes\",\n",
    "    \"gpt-4o_ours_no-tes\",\n",
    "    \"o3-mini_ghassel_no-tes\",\n",
    "    \"o3-mini_ghassel-taxonomy_no-tes\",\n",
    "    \"o3-mini_ours_no-tes\",\n",
    "    \"gemini-2.0-flash_ours_no-tes\",\n",
    "    \"gemini-2.0-flash_ghassel_no-tes\",\n",
    "    \"gemini-2.0-flash_ghassel-taxonomy_no-tes\",\n",
    "    \"gpt-3.5_ghassel_no-tes\",\n",
    "    \"gpt-3.5_ghassel-taxonomy_no-tes\",\n",
    "    \"gpt-3.5_ours_no-tes\",\n",
    "]\n"
   ]
  },
  {
   "cell_type": "code",
   "execution_count": null,
   "metadata": {},
   "outputs": [],
   "source": [
    "tested_samples = load_tested_dialogues(split=split, lang=lang)\n",
    "len(tested_samples)"
   ]
  },
  {
   "cell_type": "code",
   "execution_count": null,
   "metadata": {},
   "outputs": [],
   "source": [
    "eval_base_dir = Path(f\"./data/dbdc5_{lang}_{split}_subset/\")\n",
    "results = analyze_configs(tested_samples, configs_to_evaluate, eval_base_dir)"
   ]
  },
  {
   "cell_type": "markdown",
   "metadata": {},
   "source": [
    "## DBDC5 Japenese Track Dev"
   ]
  },
  {
   "cell_type": "code",
   "execution_count": 16,
   "metadata": {},
   "outputs": [],
   "source": [
    "lang = \"ja\"\n",
    "split = \"dev\""
   ]
  },
  {
   "cell_type": "code",
   "execution_count": 17,
   "metadata": {},
   "outputs": [],
   "source": [
    "configs_to_evaluate = [\n",
    "    \"gpt-3.5_ghassel_no-tes\",\n",
    "    \"gpt-3.5_ghassel-taxonomy_no-tes\",\n",
    "    \"gpt-3.5_ours_no-tes\",\n",
    "    \"gpt-4o_ghassel_no-tes\",\n",
    "    \"gpt-4o_ghassel-taxonomy_no-tes\",\n",
    "    \"gpt-4o_ours_no-tes\",\n",
    "]"
   ]
  },
  {
   "cell_type": "code",
   "execution_count": null,
   "metadata": {},
   "outputs": [],
   "source": [
    "tested_samples = load_tested_dialogues(split=split, lang=lang)\n",
    "len(tested_samples)"
   ]
  },
  {
   "cell_type": "code",
   "execution_count": null,
   "metadata": {},
   "outputs": [],
   "source": [
    "eval_base_dir = Path(f\"./data/dbdc5_{lang}_{split}_subset/\")\n",
    "results = analyze_configs(tested_samples, configs_to_evaluate, eval_base_dir)"
   ]
  },
  {
   "cell_type": "code",
   "execution_count": null,
   "metadata": {},
   "outputs": [],
   "source": []
  }
 ],
 "metadata": {
  "kernelspec": {
   "display_name": "venv",
   "language": "python",
   "name": "python3"
  },
  "language_info": {
   "codemirror_mode": {
    "name": "ipython",
    "version": 3
   },
   "file_extension": ".py",
   "mimetype": "text/x-python",
   "name": "python",
   "nbconvert_exporter": "python",
   "pygments_lexer": "ipython3",
   "version": "3.11.3"
  }
 },
 "nbformat": 4,
 "nbformat_minor": 2
}
